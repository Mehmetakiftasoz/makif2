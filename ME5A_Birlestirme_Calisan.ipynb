{
  "cells": [
    {
      "cell_type": "markdown",
      "metadata": {
        "id": "view-in-github",
        "colab_type": "text"
      },
      "source": [
        "<a href=\"https://colab.research.google.com/github/Mehmetakiftasoz/makif2/blob/MAKIF_COLAB/ME5A_Birlestirme_Calisan.ipynb\" target=\"_parent\"><img src=\"https://colab.research.google.com/assets/colab-badge.svg\" alt=\"Open In Colab\"/></a>"
      ]
    },
    {
      "cell_type": "markdown",
      "source": [
        "ME5A RAPORLARINI BİRLEŞTİRMEK İÇİN OLUŞTURULDU .\n",
        "SAPDAN YILLARA GÖRE ME5A RAPORLARI ÇEKİP DEVAM EDİLEBİLİR.\n",
        "SAPDAN RAPORLARI ÇEKERKEN MAKIF3 VARYANT AYARLARINDA ÇEK YOKSA BİRLEŞTİRİRKEN ÇÖKER ayrıca buraya aktarmadan önce excelleri csv formatında kaydet.\n",
        "dosya isimleri aşağıdaki gibi olmalı ve solda gördüğün yere kaydedilmeli /content/...\n",
        "ME5A_2022.csv\n",
        "ME5A_2023.csv\n",
        "ME5A_2024.csv\n",
        "ME5A_2025.csv"
      ],
      "metadata": {
        "id": "4CD5eUgoUEmT"
      }
    },
    {
      "cell_type": "code",
      "source": [
        "import pandas as pd\n",
        "import numpy as np\n",
        "from google.colab import files\n"
      ],
      "metadata": {
        "id": "kAenveomUCkN"
      },
      "execution_count": null,
      "outputs": []
    },
    {
      "cell_type": "code",
      "source": [
        "df_me5a_2022 = pd.read_csv('/content/ME5A_2022.csv', sep=None, engine='python')\n",
        "df_me5a_2023 = pd.read_csv('/content/ME5A_2023.csv', sep=None, engine='python')\n",
        "df_me5a_2024 = pd.read_csv('/content/ME5A_2024.csv', sep=None, engine='python')\n",
        "df_me5a_2025 = pd.read_csv('/content/ME5A_2022.csv', sep=None, engine='python')\n",
        "# sep=None will automatically detect the delimiter\n",
        "# engine='python' is slower but more robust for complex cases"
      ],
      "metadata": {
        "id": "dgnG1vuUUHnk"
      },
      "execution_count": null,
      "outputs": []
    },
    {
      "cell_type": "code",
      "source": [
        "#ilk sutuna yıl yazdırma\n",
        "df_me5a_2022[\"ГОД\"] = \"2022\"\n",
        "cols = [\"ГОД\"] + [col for col in df_me5a_2022.columns if col != \"ГОД\"]\n",
        "df_me5a_2022 = df_me5a_2022[cols]\n",
        "#\n",
        "df_me5a_2023[\"ГОД\"] = \"2023\"\n",
        "cols = [\"ГОД\"] + [col for col in df_me5a_2023.columns if col != \"ГОД\"]\n",
        "df_me5a_2023 = df_me5a_2023[cols]\n",
        "#\n",
        "df_me5a_2024[\"ГОД\"] = \"2024\"\n",
        "cols = [\"ГОД\"] + [col for col in df_me5a_2024.columns if col != \"ГОД\"]\n",
        "df_me5a_2024 = df_me5a_2024[cols]\n",
        "#\n",
        "df_me5a_2025[\"ГОД\"] = \"2025\"\n",
        "cols = [\"ГОД\"] + [col for col in df_me5a_2025.columns if col != \"ГОД\"]\n",
        "df_me5a_2025 = df_me5a_2025[cols]\n"
      ],
      "metadata": {
        "id": "Mj_9cY4MUJAE"
      },
      "execution_count": null,
      "outputs": []
    },
    {
      "cell_type": "code",
      "source": [
        "df_listesi = [df_me5a_2022, df_me5a_2023, df_me5a_2024,df_me5a_2025]"
      ],
      "metadata": {
        "id": "5d9w9UEqUKl0"
      },
      "execution_count": null,
      "outputs": []
    },
    {
      "cell_type": "code",
      "source": [
        "birlesik_df = pd.concat(df_listesi, ignore_index=True)"
      ],
      "metadata": {
        "id": "YVNAe3BiUL08"
      },
      "execution_count": null,
      "outputs": []
    },
    {
      "cell_type": "code",
      "source": [
        "birlesik_df.head()"
      ],
      "metadata": {
        "id": "9N_EU4JnUNEc"
      },
      "execution_count": null,
      "outputs": []
    },
    {
      "cell_type": "code",
      "source": [
        "len(birlesik_df)"
      ],
      "metadata": {
        "id": "a2_DAZXRUOg8"
      },
      "execution_count": null,
      "outputs": []
    },
    {
      "cell_type": "code",
      "source": [
        "birlesik_df.to_excel(\"me5a_2022_2025.xlsx\", index=False)"
      ],
      "metadata": {
        "id": "Jv3iLlUNUQQk"
      },
      "execution_count": null,
      "outputs": []
    },
    {
      "cell_type": "code",
      "source": [
        "files.download(\"me5a_2022_2025.xlsx\")"
      ],
      "metadata": {
        "id": "C3MMEThNUS4N"
      },
      "execution_count": null,
      "outputs": []
    },
    {
      "cell_type": "markdown",
      "source": [
        "Eğer csv kaydetmek istersen aşağıdaki kodları yorumdan çıkart"
      ],
      "metadata": {
        "id": "SQktvcz2UTjE"
      }
    },
    {
      "cell_type": "code",
      "source": [
        "#birlesik_df.to_csv(\"me5a_2022_2025.csv\", index=False)"
      ],
      "metadata": {
        "id": "fk_VikqfUX30"
      },
      "execution_count": null,
      "outputs": []
    },
    {
      "cell_type": "code",
      "source": [
        "#files.download(\"me5a_2022_2025.csv\")"
      ],
      "metadata": {
        "id": "hpa0b4SiUZhk"
      },
      "execution_count": null,
      "outputs": []
    }
  ],
  "metadata": {
    "colab": {
      "name": "Welcome To Colab",
      "toc_visible": true,
      "provenance": [],
      "include_colab_link": true
    },
    "kernelspec": {
      "display_name": "Python 3",
      "name": "python3"
    }
  },
  "nbformat": 4,
  "nbformat_minor": 0
}